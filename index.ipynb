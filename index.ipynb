{
 "cells": [
  {
   "cell_type": "markdown",
   "metadata": {},
   "source": [
    "# Building a Simple GIS with Yelp API and Folium - Lab\n",
    "\n",
    "## Introduction \n",
    "\n",
    "So we have learned quite a bit about APIs and how they are now big buzzword in the tech industry. Think of it as a protocol for how to make requests and communicate with another server. We have seen how to mine Twitter for getting text data and apply basic frequency based NLP techniques to get some insight. \n",
    "\n",
    "One of the key aspects of being a data scientist is the ability to learn how a new API works, how to go through its specific authentication process (OAuth) and how to process the data structures that get returned as a response to our requests. It is a good practice to spend some time learning the API through the official documentation before sending in requests. \n",
    "\n",
    "On these lines, this lab requires you to learn another popular API (YELP Fusion) by following the provided detailed online documentation. We shall build a simple Geographical Information System (GIS) using the data from yelp."
   ]
  },
  {
   "cell_type": "markdown",
   "metadata": {},
   "source": [
    "## Objectives\n",
    "You will be able to: \n",
    "* Successfully sign up for Yelp API \n",
    "* Create HTTP requests to get data from Yelp API\n",
    "* Parse HTTP responses and perform data analysis on the data returned\n",
    "* Create a simple geographical system on to view information about selected businesses, at a given location. \n"
   ]
  },
  {
   "cell_type": "markdown",
   "metadata": {},
   "source": [
    "## The Yelp Fusion API - v3\n",
    "\n",
    "\n",
    "### Point your browser over to this [yelp page](https://www.yelp.com/developers/v3/manage_app) and create an app in order to obtain  `client_id` and `api_key` tokens. \n",
    "\n",
    "**NOTE:** You will be required to sign up using Google or Facebook etc. if you dont already have an account.\n",
    "\n",
    "<img src=\"yelp_app.png\" width=500>\n",
    "\n"
   ]
  },
  {
   "cell_type": "markdown",
   "metadata": {},
   "source": [
    "After registration, you'll be presented with your account information and limits of your access. For Yelp, or any other API for that reason, you need to make sure that you dont surpass your request quota, otherwise, you may end up getting banned in some cases. Yelp shows this information to you as below:\n",
    "\n",
    "<img src=\"quota.png\" width=500>"
   ]
  },
  {
   "cell_type": "markdown",
   "metadata": {},
   "source": [
    "### Save your api_key and client_id in the variables below:"
   ]
  },
  {
   "cell_type": "code",
   "execution_count": 1,
   "metadata": {},
   "outputs": [],
   "source": [
    "# Save your tokens in the following string variables\n",
    "client_id = 'GmJXhjQEMv0k_kMCEksCYw'\n",
    "api_key = 'fVgQ7j5dVee48eapo1aU9GD2yAeAGgeqE7Xlnhhv3GlwDcaAuma-syhR_z_Qrr-Ar93emGuMy4hiYA1Fija-Ecp6NfYmDOBZadWizN4R8N-Y4sj-sFAP9Kd-lK_iW3Yx'"
   ]
  },
  {
   "cell_type": "markdown",
   "metadata": {},
   "source": [
    "## The `yelpapi` "
   ]
  },
  {
   "cell_type": "markdown",
   "metadata": {},
   "source": [
    "The yelpapi is a pure Python implementation of the Yelp Fusion API (aka Yelp v3 API). It is simple, fast, and robust to any changes Yelp may make to the API in the future. See tha basic usage of this library on the [official Github repo](https://github.com/gfairchild/yelpapi). You may look out for other APIs to achieve this but for this lesson, we shall use it for sake of simplicity. \n",
    "\n",
    "First you must pip install the library"
   ]
  },
  {
   "cell_type": "raw",
   "metadata": {},
   "source": [
    "!pip install yelpapi"
   ]
  },
  {
   "cell_type": "markdown",
   "metadata": {},
   "source": [
    "### Import `yelpapi ` into working environment and pass in the api_key as shown in the Github Repo "
   ]
  },
  {
   "cell_type": "code",
   "execution_count": 4,
   "metadata": {},
   "outputs": [],
   "source": [
    "# Code here\n",
    "from yelpapi import YelpAPI\n",
    "\n",
    "yelp_api = YelpAPI(api_key)"
   ]
  },
  {
   "cell_type": "markdown",
   "metadata": {},
   "source": [
    "### The Api request and response\n",
    "\n",
    "Great so we can now start making API calls using the format:\n",
    "```python\n",
    "response = yelp_api.search_query(term =<search term>, \n",
    "                                 location=<search location>, \n",
    "                                 sort_by='rating', \n",
    "                                 limit=50)\n",
    "```\n",
    "We can pass in a lot more arguments to refine our search. [Here is a complete list of options that search API provides us](https://www.yelp.com/developers/documentation/v3/business_search)\n",
    "\n",
    "* Make an API request using a simple criteria location and term\n",
    "* save the response as `response` \n",
    "* inspect the type and contents of `response`."
   ]
  },
  {
   "cell_type": "raw",
   "metadata": {},
   "source": [
    "## Pass in a spcific term and location to make a call. \n",
    "response = yelp_api.search_query(term=<search term>, \n",
    "                                 location=<search location>, \n",
    "                                 sort_by='rating', \n",
    "                                 limit=50)"
   ]
  },
  {
   "cell_type": "code",
   "execution_count": 10,
   "metadata": {},
   "outputs": [],
   "source": [
    "# For this example, we are looking for chinese food in London.\n",
    "\n",
    "term = 'Chinese food'\n",
    "location = 'London'"
   ]
  },
  {
   "cell_type": "code",
   "execution_count": 20,
   "metadata": {
    "scrolled": true
   },
   "outputs": [
    {
     "name": "stdout",
     "output_type": "stream",
     "text": [
      "{'businesses': [{'id': 'QE5aa5N-dbfvafLsjn7TVg', 'alias': 'bamboo-flute-fitzrovia', 'name': 'Bamboo Flute', 'image_url': 'https://s3-media3.fl.yelpcdn.com/bphoto/kYQZjHmzt8zy1634OsAsxQ/o.jpg', 'is_closed': False, 'url': 'https://www.yelp.com/biz/bamboo-flute-fitzrovia?adjust_creative=GmJXhjQEMv0k_kMCEksCYw&utm_campaign=yelp_api_v3&utm_medium=api_v3_business_search&utm_source=GmJXhjQEMv0k_kMCEksCYw', 'review_count': 29, 'categories': [{'alias': 'chinese', 'title': 'Chinese'}], 'rating': 4.5, 'coordinates': {'latitude': 51.5228746, 'longitude': -0.1418939}, 'transactions': [], 'price': '£', 'location': {'address1': '145 Cleveland Street', 'address2': '', 'address3': '', 'city': 'Fitzrovia', 'zip_code': 'W1T 6QH', 'country': 'GB', 'state': 'XGL', 'display_address': ['145 Cleveland Street', 'Fitzrovia W1T 6QH', 'United Kingdom']}, 'phone': '+442073872738', 'display_phone': '+44 20 7387 2738', 'distance': 1189.5082547156321}, {'id': 'h2cCoDNQOPd51HFwvuAGNg', 'alias': 'hakkasan-london-3', 'name': 'Hakkasan', 'image_url': 'https://s3-media2.fl.yelpcdn.com/bphoto/IcS9yzJnweDO4DsfJ94jAw/o.jpg', 'is_closed': False, 'url': 'https://www.yelp.com/biz/hakkasan-london-3?adjust_creative=GmJXhjQEMv0k_kMCEksCYw&utm_campaign=yelp_api_v3&utm_medium=api_v3_business_search&utm_source=GmJXhjQEMv0k_kMCEksCYw', 'review_count': 216, 'categories': [{'alias': 'cantonese', 'title': 'Cantonese'}], 'rating': 4.0, 'coordinates': {'latitude': 51.5171482803943, 'longitude': -0.13180578932657}, 'transactions': [], 'price': '££££', 'location': {'address1': '8 Hanway Place', 'address2': '', 'address3': '', 'city': 'London', 'zip_code': 'W1T 1HD', 'country': 'GB', 'state': 'XGL', 'display_address': ['8 Hanway Place', 'London W1T 1HD', 'United Kingdom']}, 'phone': '+442079277000', 'display_phone': '+44 20 7927 7000', 'distance': 558.9650039747677}, {'id': 'sYwBQ7mJYhB35nn-_SZstQ', 'alias': 'yauatcha-london-7', 'name': 'Yauatcha', 'image_url': 'https://s3-media1.fl.yelpcdn.com/bphoto/G7Ydt9lmtWsUN1gRhlCRsw/o.jpg', 'is_closed': False, 'url': 'https://www.yelp.com/biz/yauatcha-london-7?adjust_creative=GmJXhjQEMv0k_kMCEksCYw&utm_campaign=yelp_api_v3&utm_medium=api_v3_business_search&utm_source=GmJXhjQEMv0k_kMCEksCYw', 'review_count': 456, 'categories': [{'alias': 'dimsum', 'title': 'Dim Sum'}, {'alias': 'seafood', 'title': 'Seafood'}, {'alias': 'noodles', 'title': 'Noodles'}], 'rating': 4.0, 'coordinates': {'latitude': 51.5137076071076, 'longitude': -0.135128831605189}, 'transactions': [], 'price': '£££', 'location': {'address1': '15-17 Broadwick Street', 'address2': '', 'address3': '', 'city': 'London', 'zip_code': 'W1F 0DL', 'country': 'GB', 'state': 'XGL', 'display_address': ['15-17 Broadwick Street', 'London W1F 0DL', 'United Kingdom']}, 'phone': '+442074948888', 'display_phone': '+44 20 7494 8888', 'distance': 112.59840998419494}, {'id': 'pdFiFtol9YI__9ROOXUIYA', 'alias': 'lanzhou-noodle-bar-london', 'name': 'Lanzhou Noodle Bar', 'image_url': 'https://s3-media2.fl.yelpcdn.com/bphoto/L5PMp7llnaKuFuIGg1LCDw/o.jpg', 'is_closed': False, 'url': 'https://www.yelp.com/biz/lanzhou-noodle-bar-london?adjust_creative=GmJXhjQEMv0k_kMCEksCYw&utm_campaign=yelp_api_v3&utm_medium=api_v3_business_search&utm_source=GmJXhjQEMv0k_kMCEksCYw', 'review_count': 301, 'categories': [{'alias': 'chinese', 'title': 'Chinese'}, {'alias': 'noodles', 'title': 'Noodles'}], 'rating': 4.0, 'coordinates': {'latitude': 51.5116034713013, 'longitude': -0.127834377873126}, 'transactions': [], 'price': '£', 'location': {'address1': '33 Cranbourne Street', 'address2': '', 'address3': '', 'city': 'London', 'zip_code': 'WC2H 7AD', 'country': 'GB', 'state': 'XGL', 'display_address': ['33 Cranbourne Street', 'London WC2H 7AD', 'United Kingdom']}, 'phone': '+442074674546', 'display_phone': '+44 20 7467 4546', 'distance': 578.4743547816091}, {'id': 'chEEcQbc8PbidTeXK34H9g', 'alias': 'hakkasan-mayfair-london-2', 'name': 'Hakkasan Mayfair', 'image_url': 'https://s3-media2.fl.yelpcdn.com/bphoto/LX_W20RxnR5yzB3dTN6IdA/o.jpg', 'is_closed': False, 'url': 'https://www.yelp.com/biz/hakkasan-mayfair-london-2?adjust_creative=GmJXhjQEMv0k_kMCEksCYw&utm_campaign=yelp_api_v3&utm_medium=api_v3_business_search&utm_source=GmJXhjQEMv0k_kMCEksCYw', 'review_count': 116, 'categories': [{'alias': 'chinese', 'title': 'Chinese'}], 'rating': 4.0, 'coordinates': {'latitude': 51.5103202323384, 'longitude': -0.144935268434918}, 'transactions': [], 'price': '££££', 'location': {'address1': '17 Bruton Street', 'address2': '', 'address3': '', 'city': 'London', 'zip_code': 'W1J 6QB', 'country': 'GB', 'state': 'XGL', 'display_address': ['17 Bruton Street', 'London W1J 6QB', 'United Kingdom']}, 'phone': '+442079071888', 'display_phone': '+44 20 7907 1888', 'distance': 681.4450716267161}, {'id': '6iCxFP7Oc0qG_6ByenO0sw', 'alias': 'silk-road-london-2', 'name': 'Silk Road', 'image_url': 'https://s3-media3.fl.yelpcdn.com/bphoto/pUXusTIbeDRInvi6fkNjmA/o.jpg', 'is_closed': False, 'url': 'https://www.yelp.com/biz/silk-road-london-2?adjust_creative=GmJXhjQEMv0k_kMCEksCYw&utm_campaign=yelp_api_v3&utm_medium=api_v3_business_search&utm_source=GmJXhjQEMv0k_kMCEksCYw', 'review_count': 43, 'categories': [{'alias': 'chinese', 'title': 'Chinese'}], 'rating': 4.5, 'coordinates': {'latitude': 51.4739712, 'longitude': -0.0896081}, 'transactions': [], 'price': '££', 'location': {'address1': '49 Camberwell Church Street', 'address2': '', 'address3': '', 'city': 'London', 'zip_code': 'SE5 8TR', 'country': 'GB', 'state': 'XGL', 'display_address': ['49 Camberwell Church Street', 'London SE5 8TR', 'United Kingdom']}, 'phone': '+442077034832', 'display_phone': '+44 20 7703 4832', 'distance': 5403.445838977789}, {'id': 'Mrv3dA42EioqBz50t_f24Q', 'alias': 'hunan-london', 'name': 'Hunan', 'image_url': 'https://s3-media3.fl.yelpcdn.com/bphoto/sEgrRrMVkWaky7Yc7dvdgg/o.jpg', 'is_closed': False, 'url': 'https://www.yelp.com/biz/hunan-london?adjust_creative=GmJXhjQEMv0k_kMCEksCYw&utm_campaign=yelp_api_v3&utm_medium=api_v3_business_search&utm_source=GmJXhjQEMv0k_kMCEksCYw', 'review_count': 38, 'categories': [{'alias': 'chinese', 'title': 'Chinese'}], 'rating': 4.5, 'coordinates': {'latitude': 51.490493, 'longitude': -0.1526547}, 'transactions': [], 'price': '££££', 'location': {'address1': '51 Pimlico Road', 'address2': '', 'address3': '', 'city': 'London', 'zip_code': 'SW1W 8NE', 'country': 'GB', 'state': 'XGL', 'display_address': ['51 Pimlico Road', 'London SW1W 8NE', 'United Kingdom']}, 'phone': '+442077305712', 'display_phone': '+44 20 7730 5712', 'distance': 2741.6022690860036}, {'id': '5-_YNjtvoG-oYt1qAO3tVw', 'alias': 'bugis-street-brasserie-london', 'name': 'Bugis Street Brasserie', 'image_url': 'https://s3-media1.fl.yelpcdn.com/bphoto/kgtAwZ3oF2wh05ndSzQ1zA/o.jpg', 'is_closed': False, 'url': 'https://www.yelp.com/biz/bugis-street-brasserie-london?adjust_creative=GmJXhjQEMv0k_kMCEksCYw&utm_campaign=yelp_api_v3&utm_medium=api_v3_business_search&utm_source=GmJXhjQEMv0k_kMCEksCYw', 'review_count': 44, 'categories': [{'alias': 'chinese', 'title': 'Chinese'}, {'alias': 'singaporean', 'title': 'Singaporean'}], 'rating': 4.0, 'coordinates': {'latitude': 51.4936621211568, 'longitude': -0.183931280273902}, 'transactions': [], 'price': '££', 'location': {'address1': 'Millennium Hotels & Resorts', 'address2': '4-18 Harrington Gardens', 'address3': '', 'city': 'London', 'zip_code': 'SW7 4LH', 'country': 'GB', 'state': 'XGL', 'display_address': ['Millennium Hotels & Resorts', '4-18 Harrington Gardens', 'London SW7 4LH', 'United Kingdom']}, 'phone': '+442073316211', 'display_phone': '+44 20 7331 6211', 'distance': 3946.1405823998143}, {'id': 'MpdG-D0nKwGEZp0ApTtBaA', 'alias': 'barshu-london-2', 'name': 'Barshu', 'image_url': 'https://s3-media2.fl.yelpcdn.com/bphoto/jaGznOhEvqqcJXKCYt12Ug/o.jpg', 'is_closed': False, 'url': 'https://www.yelp.com/biz/barshu-london-2?adjust_creative=GmJXhjQEMv0k_kMCEksCYw&utm_campaign=yelp_api_v3&utm_medium=api_v3_business_search&utm_source=GmJXhjQEMv0k_kMCEksCYw', 'review_count': 96, 'categories': [{'alias': 'szechuan', 'title': 'Szechuan'}], 'rating': 4.0, 'coordinates': {'latitude': 51.512835, 'longitude': -0.130857}, 'transactions': [], 'price': '£££', 'location': {'address1': '28 Frith Street', 'address2': '', 'address3': '', 'city': 'London', 'zip_code': 'W1D 5LF', 'country': 'GB', 'state': 'XGL', 'display_address': ['28 Frith Street', 'London W1D 5LF', 'United Kingdom']}, 'phone': '+442072878822', 'display_phone': '+44 20 7287 8822', 'distance': 357.1885184880618}, {'id': '3ea8x8r0gsVy8ltQycldsA', 'alias': 'gold-mine-london', 'name': 'Gold Mine', 'image_url': 'https://s3-media2.fl.yelpcdn.com/bphoto/aihm1QdPS5Mq79T_9rP7tA/o.jpg', 'is_closed': False, 'url': 'https://www.yelp.com/biz/gold-mine-london?adjust_creative=GmJXhjQEMv0k_kMCEksCYw&utm_campaign=yelp_api_v3&utm_medium=api_v3_business_search&utm_source=GmJXhjQEMv0k_kMCEksCYw', 'review_count': 66, 'categories': [{'alias': 'chinese', 'title': 'Chinese'}], 'rating': 4.0, 'coordinates': {'latitude': 51.5133018493652, 'longitude': -0.187491998076439}, 'transactions': [], 'price': '££', 'location': {'address1': '102 Queensway', 'address2': '', 'address3': '', 'city': 'London', 'zip_code': 'W2 3RR', 'country': 'GB', 'state': 'XGL', 'display_address': ['102 Queensway', 'London W2 3RR', 'United Kingdom']}, 'phone': '+442077928331', 'display_phone': '+44 20 7792 8331', 'distance': 3571.4713192257427}], 'total': 1200, 'region': {'center': {'longitude': -0.135955810546875, 'latitude': 51.51283552118349}}}\n"
     ]
    }
   ],
   "source": [
    "# Make an API call using chosen term and location\n",
    "\n",
    "response = yelp_api.search_query(term=term, location=location, sort_by='rating', limit=10)\n",
    "type(response)\n",
    "print(response)\n"
   ]
  },
  {
   "cell_type": "markdown",
   "metadata": {},
   "source": [
    "### JSON .. again ! \n",
    "\n",
    "We have a nice nifty little return now! As you can see, the contents of the response is formatted as a string but what kind of data structures does this remind you of?  \n",
    "\n",
    "To start there's the outer curly brackets:  \n",
    "\n",
    "#### {\"businesses\":   \n",
    "\n",
    "Hopefully you're thinking 'hey that's just like a python dictionary!'\n",
    "\n",
    "Then within that we have what appears to be a list of dictionaries:  \n",
    "\n",
    "#### {\"id\": \"jeWIYbgBho9vBDhc5S1xvg\",\n",
    "\n",
    "This response is an example of a JSON (JavaScript Object Notation) format that we've seen so many times before. We can simply treat it as a dictionary and process it further. "
   ]
  },
  {
   "cell_type": "markdown",
   "metadata": {},
   "source": [
    "### Inspect the values for all the keys in the response"
   ]
  },
  {
   "cell_type": "code",
   "execution_count": 21,
   "metadata": {},
   "outputs": [
    {
     "name": "stdout",
     "output_type": "stream",
     "text": [
      "Key: businesses, Value: <class 'dict_values'>\n",
      "Key: total, Value: <class 'dict_values'>\n",
      "Key: region, Value: <class 'dict_values'>\n"
     ]
    }
   ],
   "source": [
    "# inspect the key value pairs to understand the strcuture of data \n",
    "\n",
    "for key in response.keys():\n",
    "    value = response.values()\n",
    "    print('Key: {}, Value: {}'.format(key, type(value)))\n"
   ]
  },
  {
   "cell_type": "markdown",
   "metadata": {},
   "source": [
    "Whoops, what's going on here!? Well, notice from our previous preview of the response that we saw there were a hierarhcy within the response. Let's begin to investigate further to see what the problem is.\n",
    "\n",
    "First, recall that the overall strucutre of the response was a dictionary. Let's look at what the keys are:"
   ]
  },
  {
   "cell_type": "code",
   "execution_count": 22,
   "metadata": {},
   "outputs": [
    {
     "data": {
      "text/plain": [
       "dict_keys(['businesses', 'total', 'region'])"
      ]
     },
     "execution_count": 22,
     "metadata": {},
     "output_type": "execute_result"
    }
   ],
   "source": [
    "response.keys()"
   ]
  },
  {
   "cell_type": "markdown",
   "metadata": {},
   "source": [
    "Consult the Yelp API and learn what value is carried in each key. \n",
    "\n",
    "#### Continue to preview these keys  further to get a little better acquainted. "
   ]
  },
  {
   "cell_type": "code",
   "execution_count": 23,
   "metadata": {},
   "outputs": [
    {
     "name": "stdout",
     "output_type": "stream",
     "text": [
      "BUSINESS: {'id': 'QE5aa5N-dbfvafLsjn7TVg', 'alias': 'bamboo-flute-fitzrovia', 'name': 'Bamboo Flute', 'image_url': 'https://s3-media3.fl.yelpcdn.com/bphoto/kYQZjHmzt8zy1634OsAsxQ/o.jpg', 'is_closed': False, 'url': 'https://www.yelp.com/biz/bamboo-flute-fitzrovia?adjust_creative=GmJXhjQEMv0k_kMCEksCYw&utm_campaign=yelp_api_v3&utm_medium=api_v3_business_search&utm_source=GmJXhjQEMv0k_kMCEksCYw', 'review_count': 29, 'categories': [{'alias': 'chinese', 'title': 'Chinese'}], 'rating': 4.5, 'coordinates': {'latitude': 51.5228746, 'longitude': -0.1418939}, 'transactions': [], 'price': '£', 'location': {'address1': '145 Cleveland Street', 'address2': '', 'address3': '', 'city': 'Fitzrovia', 'zip_code': 'W1T 6QH', 'country': 'GB', 'state': 'XGL', 'display_address': ['145 Cleveland Street', 'Fitzrovia W1T 6QH', 'United Kingdom']}, 'phone': '+442073872738', 'display_phone': '+44 20 7387 2738', 'distance': 1189.5082547156321}\n",
      "REGION: {'center': {'longitude': -0.135955810546875, 'latitude': 51.51283552118349}}\n",
      "TOTAL : 1200\n"
     ]
    }
   ],
   "source": [
    "print('BUSINESS:', response['businesses'][0])\n",
    "\n",
    "print('REGION:', response['region'])\n",
    "\n",
    "print('TOTAL :',response['total'])"
   ]
  },
  {
   "cell_type": "markdown",
   "metadata": {},
   "source": [
    "This makes more sense, so we are mainly interested in the `businesses` for our needs. \n",
    "\n",
    "### Print the names of businesses and included ratings "
   ]
  },
  {
   "cell_type": "code",
   "execution_count": 24,
   "metadata": {},
   "outputs": [
    {
     "name": "stdout",
     "output_type": "stream",
     "text": [
      "Bamboo Flute\n",
      "Hakkasan\n",
      "Yauatcha\n",
      "Lanzhou Noodle Bar\n",
      "Hakkasan Mayfair\n",
      "Silk Road\n",
      "Hunan\n",
      "Bugis Street Brasserie\n",
      "Barshu\n",
      "Gold Mine\n"
     ]
    }
   ],
   "source": [
    "# Code here \n",
    "for i in range(10):\n",
    "    print(response['businesses'][i]['name'])"
   ]
  },
  {
   "cell_type": "markdown",
   "metadata": {},
   "source": [
    "Great, now are are getting somewhere. It is a good idea at this stage to store this information as a dataframe for processing further. \n",
    "### Create a Pandas dataframe for contents of `businesses`\n",
    "* Check the number of records in the dataframe\n",
    "* Inspect the columns and head"
   ]
  },
  {
   "cell_type": "code",
   "execution_count": 25,
   "metadata": {
    "scrolled": false
   },
   "outputs": [
    {
     "name": "stdout",
     "output_type": "stream",
     "text": [
      "10\n",
      "Index(['alias', 'categories', 'coordinates', 'display_phone', 'distance', 'id',\n",
      "       'image_url', 'is_closed', 'location', 'name', 'phone', 'price',\n",
      "       'rating', 'review_count', 'transactions', 'url'],\n",
      "      dtype='object')\n"
     ]
    },
    {
     "data": {
      "text/html": [
       "<div>\n",
       "<style scoped>\n",
       "    .dataframe tbody tr th:only-of-type {\n",
       "        vertical-align: middle;\n",
       "    }\n",
       "\n",
       "    .dataframe tbody tr th {\n",
       "        vertical-align: top;\n",
       "    }\n",
       "\n",
       "    .dataframe thead th {\n",
       "        text-align: right;\n",
       "    }\n",
       "</style>\n",
       "<table border=\"1\" class=\"dataframe\">\n",
       "  <thead>\n",
       "    <tr style=\"text-align: right;\">\n",
       "      <th></th>\n",
       "      <th>alias</th>\n",
       "      <th>categories</th>\n",
       "      <th>coordinates</th>\n",
       "      <th>display_phone</th>\n",
       "      <th>distance</th>\n",
       "      <th>id</th>\n",
       "      <th>image_url</th>\n",
       "      <th>is_closed</th>\n",
       "      <th>location</th>\n",
       "      <th>name</th>\n",
       "      <th>phone</th>\n",
       "      <th>price</th>\n",
       "      <th>rating</th>\n",
       "      <th>review_count</th>\n",
       "      <th>transactions</th>\n",
       "      <th>url</th>\n",
       "    </tr>\n",
       "  </thead>\n",
       "  <tbody>\n",
       "    <tr>\n",
       "      <th>0</th>\n",
       "      <td>bamboo-flute-fitzrovia</td>\n",
       "      <td>[{'alias': 'chinese', 'title': 'Chinese'}]</td>\n",
       "      <td>{'latitude': 51.5228746, 'longitude': -0.1418939}</td>\n",
       "      <td>+44 20 7387 2738</td>\n",
       "      <td>1189.508255</td>\n",
       "      <td>QE5aa5N-dbfvafLsjn7TVg</td>\n",
       "      <td>https://s3-media3.fl.yelpcdn.com/bphoto/kYQZjH...</td>\n",
       "      <td>False</td>\n",
       "      <td>{'address1': '145 Cleveland Street', 'address2...</td>\n",
       "      <td>Bamboo Flute</td>\n",
       "      <td>+442073872738</td>\n",
       "      <td>£</td>\n",
       "      <td>4.5</td>\n",
       "      <td>29</td>\n",
       "      <td>[]</td>\n",
       "      <td>https://www.yelp.com/biz/bamboo-flute-fitzrovi...</td>\n",
       "    </tr>\n",
       "    <tr>\n",
       "      <th>1</th>\n",
       "      <td>hakkasan-london-3</td>\n",
       "      <td>[{'alias': 'cantonese', 'title': 'Cantonese'}]</td>\n",
       "      <td>{'latitude': 51.5171482803943, 'longitude': -0...</td>\n",
       "      <td>+44 20 7927 7000</td>\n",
       "      <td>558.965004</td>\n",
       "      <td>h2cCoDNQOPd51HFwvuAGNg</td>\n",
       "      <td>https://s3-media2.fl.yelpcdn.com/bphoto/IcS9yz...</td>\n",
       "      <td>False</td>\n",
       "      <td>{'address1': '8 Hanway Place', 'address2': '',...</td>\n",
       "      <td>Hakkasan</td>\n",
       "      <td>+442079277000</td>\n",
       "      <td>££££</td>\n",
       "      <td>4.0</td>\n",
       "      <td>216</td>\n",
       "      <td>[]</td>\n",
       "      <td>https://www.yelp.com/biz/hakkasan-london-3?adj...</td>\n",
       "    </tr>\n",
       "    <tr>\n",
       "      <th>2</th>\n",
       "      <td>yauatcha-london-7</td>\n",
       "      <td>[{'alias': 'dimsum', 'title': 'Dim Sum'}, {'al...</td>\n",
       "      <td>{'latitude': 51.5137076071076, 'longitude': -0...</td>\n",
       "      <td>+44 20 7494 8888</td>\n",
       "      <td>112.598410</td>\n",
       "      <td>sYwBQ7mJYhB35nn-_SZstQ</td>\n",
       "      <td>https://s3-media1.fl.yelpcdn.com/bphoto/G7Ydt9...</td>\n",
       "      <td>False</td>\n",
       "      <td>{'address1': '15-17 Broadwick Street', 'addres...</td>\n",
       "      <td>Yauatcha</td>\n",
       "      <td>+442074948888</td>\n",
       "      <td>£££</td>\n",
       "      <td>4.0</td>\n",
       "      <td>456</td>\n",
       "      <td>[]</td>\n",
       "      <td>https://www.yelp.com/biz/yauatcha-london-7?adj...</td>\n",
       "    </tr>\n",
       "    <tr>\n",
       "      <th>3</th>\n",
       "      <td>lanzhou-noodle-bar-london</td>\n",
       "      <td>[{'alias': 'chinese', 'title': 'Chinese'}, {'a...</td>\n",
       "      <td>{'latitude': 51.5116034713013, 'longitude': -0...</td>\n",
       "      <td>+44 20 7467 4546</td>\n",
       "      <td>578.474355</td>\n",
       "      <td>pdFiFtol9YI__9ROOXUIYA</td>\n",
       "      <td>https://s3-media2.fl.yelpcdn.com/bphoto/L5PMp7...</td>\n",
       "      <td>False</td>\n",
       "      <td>{'address1': '33 Cranbourne Street', 'address2...</td>\n",
       "      <td>Lanzhou Noodle Bar</td>\n",
       "      <td>+442074674546</td>\n",
       "      <td>£</td>\n",
       "      <td>4.0</td>\n",
       "      <td>301</td>\n",
       "      <td>[]</td>\n",
       "      <td>https://www.yelp.com/biz/lanzhou-noodle-bar-lo...</td>\n",
       "    </tr>\n",
       "    <tr>\n",
       "      <th>4</th>\n",
       "      <td>hakkasan-mayfair-london-2</td>\n",
       "      <td>[{'alias': 'chinese', 'title': 'Chinese'}]</td>\n",
       "      <td>{'latitude': 51.5103202323384, 'longitude': -0...</td>\n",
       "      <td>+44 20 7907 1888</td>\n",
       "      <td>681.445072</td>\n",
       "      <td>chEEcQbc8PbidTeXK34H9g</td>\n",
       "      <td>https://s3-media2.fl.yelpcdn.com/bphoto/LX_W20...</td>\n",
       "      <td>False</td>\n",
       "      <td>{'address1': '17 Bruton Street', 'address2': '...</td>\n",
       "      <td>Hakkasan Mayfair</td>\n",
       "      <td>+442079071888</td>\n",
       "      <td>££££</td>\n",
       "      <td>4.0</td>\n",
       "      <td>116</td>\n",
       "      <td>[]</td>\n",
       "      <td>https://www.yelp.com/biz/hakkasan-mayfair-lond...</td>\n",
       "    </tr>\n",
       "  </tbody>\n",
       "</table>\n",
       "</div>"
      ],
      "text/plain": [
       "                       alias  \\\n",
       "0     bamboo-flute-fitzrovia   \n",
       "1          hakkasan-london-3   \n",
       "2          yauatcha-london-7   \n",
       "3  lanzhou-noodle-bar-london   \n",
       "4  hakkasan-mayfair-london-2   \n",
       "\n",
       "                                          categories  \\\n",
       "0         [{'alias': 'chinese', 'title': 'Chinese'}]   \n",
       "1     [{'alias': 'cantonese', 'title': 'Cantonese'}]   \n",
       "2  [{'alias': 'dimsum', 'title': 'Dim Sum'}, {'al...   \n",
       "3  [{'alias': 'chinese', 'title': 'Chinese'}, {'a...   \n",
       "4         [{'alias': 'chinese', 'title': 'Chinese'}]   \n",
       "\n",
       "                                         coordinates     display_phone  \\\n",
       "0  {'latitude': 51.5228746, 'longitude': -0.1418939}  +44 20 7387 2738   \n",
       "1  {'latitude': 51.5171482803943, 'longitude': -0...  +44 20 7927 7000   \n",
       "2  {'latitude': 51.5137076071076, 'longitude': -0...  +44 20 7494 8888   \n",
       "3  {'latitude': 51.5116034713013, 'longitude': -0...  +44 20 7467 4546   \n",
       "4  {'latitude': 51.5103202323384, 'longitude': -0...  +44 20 7907 1888   \n",
       "\n",
       "      distance                      id  \\\n",
       "0  1189.508255  QE5aa5N-dbfvafLsjn7TVg   \n",
       "1   558.965004  h2cCoDNQOPd51HFwvuAGNg   \n",
       "2   112.598410  sYwBQ7mJYhB35nn-_SZstQ   \n",
       "3   578.474355  pdFiFtol9YI__9ROOXUIYA   \n",
       "4   681.445072  chEEcQbc8PbidTeXK34H9g   \n",
       "\n",
       "                                           image_url  is_closed  \\\n",
       "0  https://s3-media3.fl.yelpcdn.com/bphoto/kYQZjH...      False   \n",
       "1  https://s3-media2.fl.yelpcdn.com/bphoto/IcS9yz...      False   \n",
       "2  https://s3-media1.fl.yelpcdn.com/bphoto/G7Ydt9...      False   \n",
       "3  https://s3-media2.fl.yelpcdn.com/bphoto/L5PMp7...      False   \n",
       "4  https://s3-media2.fl.yelpcdn.com/bphoto/LX_W20...      False   \n",
       "\n",
       "                                            location                name  \\\n",
       "0  {'address1': '145 Cleveland Street', 'address2...        Bamboo Flute   \n",
       "1  {'address1': '8 Hanway Place', 'address2': '',...            Hakkasan   \n",
       "2  {'address1': '15-17 Broadwick Street', 'addres...            Yauatcha   \n",
       "3  {'address1': '33 Cranbourne Street', 'address2...  Lanzhou Noodle Bar   \n",
       "4  {'address1': '17 Bruton Street', 'address2': '...    Hakkasan Mayfair   \n",
       "\n",
       "           phone price  rating  review_count transactions  \\\n",
       "0  +442073872738     £     4.5            29           []   \n",
       "1  +442079277000  ££££     4.0           216           []   \n",
       "2  +442074948888   £££     4.0           456           []   \n",
       "3  +442074674546     £     4.0           301           []   \n",
       "4  +442079071888  ££££     4.0           116           []   \n",
       "\n",
       "                                                 url  \n",
       "0  https://www.yelp.com/biz/bamboo-flute-fitzrovi...  \n",
       "1  https://www.yelp.com/biz/hakkasan-london-3?adj...  \n",
       "2  https://www.yelp.com/biz/yauatcha-london-7?adj...  \n",
       "3  https://www.yelp.com/biz/lanzhou-noodle-bar-lo...  \n",
       "4  https://www.yelp.com/biz/hakkasan-mayfair-lond...  "
      ]
     },
     "execution_count": 25,
     "metadata": {},
     "output_type": "execute_result"
    }
   ],
   "source": [
    "# Code here \n",
    "import pandas as pd\n",
    "\n",
    "df = pd.DataFrame.from_dict(response['businesses'])\n",
    "\n",
    "print(len(df))\n",
    "print(df.columns)\n",
    "df.head()"
   ]
  },
  {
   "cell_type": "markdown",
   "metadata": {},
   "source": [
    "This is fantastic. We have successfully learned a new API , made requests to it, recieved and studied the response and stored the results in a dataframe and can now enjoy all the goodness of Pandas. Thats quite a bit of data engineering. \n",
    "\n",
    "### Visualize the location from search query\n",
    "The `region` key in the response carries the geographical information for the region searched.\n",
    "* Get the latitude / longitude information from `region`\n",
    "* Create a folium map with these coordinates. \n",
    "* Use a zoom start value = 13"
   ]
  },
  {
   "cell_type": "code",
   "execution_count": 26,
   "metadata": {
    "scrolled": false
   },
   "outputs": [
    {
     "data": {
      "text/html": [
       "<div style=\"width:100%;\"><div style=\"position:relative;width:100%;height:0;padding-bottom:60%;\"><iframe src=\"data:text/html;charset=utf-8;base64,PCFET0NUWVBFIGh0bWw+CjxoZWFkPiAgICAKICAgIDxtZXRhIGh0dHAtZXF1aXY9ImNvbnRlbnQtdHlwZSIgY29udGVudD0idGV4dC9odG1sOyBjaGFyc2V0PVVURi04IiAvPgogICAgPHNjcmlwdD5MX1BSRUZFUl9DQU5WQVM9ZmFsc2U7IExfTk9fVE9VQ0g9ZmFsc2U7IExfRElTQUJMRV8zRD1mYWxzZTs8L3NjcmlwdD4KICAgIDxzY3JpcHQgc3JjPSJodHRwczovL2Nkbi5qc2RlbGl2ci5uZXQvbnBtL2xlYWZsZXRAMS4yLjAvZGlzdC9sZWFmbGV0LmpzIj48L3NjcmlwdD4KICAgIDxzY3JpcHQgc3JjPSJodHRwczovL2FqYXguZ29vZ2xlYXBpcy5jb20vYWpheC9saWJzL2pxdWVyeS8xLjExLjEvanF1ZXJ5Lm1pbi5qcyI+PC9zY3JpcHQ+CiAgICA8c2NyaXB0IHNyYz0iaHR0cHM6Ly9tYXhjZG4uYm9vdHN0cmFwY2RuLmNvbS9ib290c3RyYXAvMy4yLjAvanMvYm9vdHN0cmFwLm1pbi5qcyI+PC9zY3JpcHQ+CiAgICA8c2NyaXB0IHNyYz0iaHR0cHM6Ly9jZG5qcy5jbG91ZGZsYXJlLmNvbS9hamF4L2xpYnMvTGVhZmxldC5hd2Vzb21lLW1hcmtlcnMvMi4wLjIvbGVhZmxldC5hd2Vzb21lLW1hcmtlcnMuanMiPjwvc2NyaXB0PgogICAgPGxpbmsgcmVsPSJzdHlsZXNoZWV0IiBocmVmPSJodHRwczovL2Nkbi5qc2RlbGl2ci5uZXQvbnBtL2xlYWZsZXRAMS4yLjAvZGlzdC9sZWFmbGV0LmNzcyIvPgogICAgPGxpbmsgcmVsPSJzdHlsZXNoZWV0IiBocmVmPSJodHRwczovL21heGNkbi5ib290c3RyYXBjZG4uY29tL2Jvb3RzdHJhcC8zLjIuMC9jc3MvYm9vdHN0cmFwLm1pbi5jc3MiLz4KICAgIDxsaW5rIHJlbD0ic3R5bGVzaGVldCIgaHJlZj0iaHR0cHM6Ly9tYXhjZG4uYm9vdHN0cmFwY2RuLmNvbS9ib290c3RyYXAvMy4yLjAvY3NzL2Jvb3RzdHJhcC10aGVtZS5taW4uY3NzIi8+CiAgICA8bGluayByZWw9InN0eWxlc2hlZXQiIGhyZWY9Imh0dHBzOi8vbWF4Y2RuLmJvb3RzdHJhcGNkbi5jb20vZm9udC1hd2Vzb21lLzQuNi4zL2Nzcy9mb250LWF3ZXNvbWUubWluLmNzcyIvPgogICAgPGxpbmsgcmVsPSJzdHlsZXNoZWV0IiBocmVmPSJodHRwczovL2NkbmpzLmNsb3VkZmxhcmUuY29tL2FqYXgvbGlicy9MZWFmbGV0LmF3ZXNvbWUtbWFya2Vycy8yLjAuMi9sZWFmbGV0LmF3ZXNvbWUtbWFya2Vycy5jc3MiLz4KICAgIDxsaW5rIHJlbD0ic3R5bGVzaGVldCIgaHJlZj0iaHR0cHM6Ly9yYXdnaXQuY29tL3B5dGhvbi12aXN1YWxpemF0aW9uL2ZvbGl1bS9tYXN0ZXIvZm9saXVtL3RlbXBsYXRlcy9sZWFmbGV0LmF3ZXNvbWUucm90YXRlLmNzcyIvPgogICAgPHN0eWxlPmh0bWwsIGJvZHkge3dpZHRoOiAxMDAlO2hlaWdodDogMTAwJTttYXJnaW46IDA7cGFkZGluZzogMDt9PC9zdHlsZT4KICAgIDxzdHlsZT4jbWFwIHtwb3NpdGlvbjphYnNvbHV0ZTt0b3A6MDtib3R0b206MDtyaWdodDowO2xlZnQ6MDt9PC9zdHlsZT4KICAgIAogICAgPHN0eWxlPiNtYXBfYWRkNGNhZjEwYTYwNDI0OWI1Yzg2YTNjNjM2YjRlNWYgewogICAgICAgIHBvc2l0aW9uOiByZWxhdGl2ZTsKICAgICAgICB3aWR0aDogMTAwLjAlOwogICAgICAgIGhlaWdodDogMTAwLjAlOwogICAgICAgIGxlZnQ6IDAuMCU7CiAgICAgICAgdG9wOiAwLjAlOwogICAgICAgIH0KICAgIDwvc3R5bGU+CjwvaGVhZD4KPGJvZHk+ICAgIAogICAgCiAgICA8ZGl2IGNsYXNzPSJmb2xpdW0tbWFwIiBpZD0ibWFwX2FkZDRjYWYxMGE2MDQyNDliNWM4NmEzYzYzNmI0ZTVmIiA+PC9kaXY+CjwvYm9keT4KPHNjcmlwdD4gICAgCiAgICAKICAgIAogICAgICAgIHZhciBib3VuZHMgPSBudWxsOwogICAgCgogICAgdmFyIG1hcF9hZGQ0Y2FmMTBhNjA0MjQ5YjVjODZhM2M2MzZiNGU1ZiA9IEwubWFwKAogICAgICAgICdtYXBfYWRkNGNhZjEwYTYwNDI0OWI1Yzg2YTNjNjM2YjRlNWYnLCB7CiAgICAgICAgY2VudGVyOiBbNTEuNTEyODM1NTIxMTgzNDksIC0wLjEzNTk1NTgxMDU0Njg3NV0sCiAgICAgICAgem9vbTogMTMsCiAgICAgICAgbWF4Qm91bmRzOiBib3VuZHMsCiAgICAgICAgbGF5ZXJzOiBbXSwKICAgICAgICB3b3JsZENvcHlKdW1wOiBmYWxzZSwKICAgICAgICBjcnM6IEwuQ1JTLkVQU0czODU3LAogICAgICAgIHpvb21Db250cm9sOiB0cnVlLAogICAgICAgIH0pOwoKICAgIAogICAgCiAgICB2YXIgdGlsZV9sYXllcl8zMDhhMzM2ODRiYzk0ODU5YWM2YzQxOTJhZGFlODViMCA9IEwudGlsZUxheWVyKAogICAgICAgICdodHRwczovL3tzfS50aWxlLm9wZW5zdHJlZXRtYXAub3JnL3t6fS97eH0ve3l9LnBuZycsCiAgICAgICAgewogICAgICAgICJhdHRyaWJ1dGlvbiI6IG51bGwsCiAgICAgICAgImRldGVjdFJldGluYSI6IGZhbHNlLAogICAgICAgICJtYXhOYXRpdmVab29tIjogMTgsCiAgICAgICAgIm1heFpvb20iOiAxOCwKICAgICAgICAibWluWm9vbSI6IDAsCiAgICAgICAgIm5vV3JhcCI6IGZhbHNlLAogICAgICAgICJzdWJkb21haW5zIjogImFiYyIKfSkuYWRkVG8obWFwX2FkZDRjYWYxMGE2MDQyNDliNWM4NmEzYzYzNmI0ZTVmKTsKPC9zY3JpcHQ+\" style=\"position:absolute;width:100%;height:100%;left:0;top:0;border:none !important;\" allowfullscreen webkitallowfullscreen mozallowfullscreen></iframe></div></div>"
      ],
      "text/plain": [
       "<folium.folium.Map at 0x11d4744a8>"
      ]
     },
     "execution_count": 26,
     "metadata": {},
     "output_type": "execute_result"
    }
   ],
   "source": [
    "import folium\n",
    "\n",
    "# Code here\n",
    "\n",
    "#Retrieve the Latitude and Longitude from the Yelp Response\n",
    "lat_long = response['region']['center']\n",
    "lat = lat_long['latitude']\n",
    "long = lat_long['longitude']\n",
    "\n",
    "#Create a map of the area\n",
    "yelp_map = folium.Map([lat, long], zoom_start=13)\n",
    "yelp_map\n"
   ]
  },
  {
   "cell_type": "markdown",
   "metadata": {},
   "source": [
    "Expected Output:\n",
    "![](london.png)"
   ]
  },
  {
   "cell_type": "markdown",
   "metadata": {},
   "source": [
    "Nice. We can now extract the coordinate information for each business and plot it on this map.\n",
    "\n",
    "### Get the business coordinates from dataframe for each business and plot on the map above"
   ]
  },
  {
   "cell_type": "code",
   "execution_count": 27,
   "metadata": {
    "scrolled": false
   },
   "outputs": [
    {
     "data": {
      "text/html": [
       "<div style=\"width:100%;\"><div style=\"position:relative;width:100%;height:0;padding-bottom:60%;\"><iframe src=\"data:text/html;charset=utf-8;base64,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\" style=\"position:absolute;width:100%;height:100%;left:0;top:0;border:none !important;\" allowfullscreen webkitallowfullscreen mozallowfullscreen></iframe></div></div>"
      ],
      "text/plain": [
       "<folium.folium.Map at 0x11d4744a8>"
      ]
     },
     "execution_count": 27,
     "metadata": {},
     "output_type": "execute_result"
    }
   ],
   "source": [
    "# Code here \n",
    "\n",
    "for row in df.index:\n",
    "    \n",
    "    lat_long = df['coordinates'][row]\n",
    "    lat = lat_long['latitude']\n",
    "    long = lat_long['longitude']\n",
    "\n",
    "    marker = folium.Marker(location=[lat,long])\n",
    "    marker.add_to(yelp_map)\n",
    "yelp_map"
   ]
  },
  {
   "cell_type": "markdown",
   "metadata": {},
   "source": [
    "Expected output:\n",
    "![](markers.png)"
   ]
  },
  {
   "cell_type": "markdown",
   "metadata": {},
   "source": [
    "Kool so we have everything in place but the visualization is still not very *Informative* so to speak. You can't tell which marker represents which business and also other information on business like rating, cost, links to user reviews etc. is still not visible. SO its geographical , but not exactly an Information System yet as you cant make any decisions on this information.  Here's as example of what it possible can look like\n",
    "![](out.png)\n"
   ]
  },
  {
   "cell_type": "markdown",
   "metadata": {},
   "source": [
    "For this you need to understand `folium.popup()` which let's you click on a marker to show a pop up window. This window acts more like an HTML page so you can easily format the information you present in the popup using following values:\n",
    "* The official business logo/image:  `image_url`\n",
    "* Name of the Business: `name`\n",
    "* Price (how expensive): `price`\n",
    "* Links to user reviews on Yelp: `url`\n",
    "\n",
    "Doing this in HTML is not required , so we recommend that you first try to put in basic information in the popups as just text. As a next stage , you can start changing into HTML code to make it visually more appealing.\n",
    "\n",
    "### Attempt to recreate the interactive visualization shown above.\n",
    "\n",
    "Here's a good resource with code examples on [how to create folium popups](https://github.com/python-visualization/folium/blob/master/examples/Popups.ipynb)"
   ]
  },
  {
   "cell_type": "code",
   "execution_count": 28,
   "metadata": {},
   "outputs": [
    {
     "data": {
      "text/html": [
       "<div style=\"width:100%;\"><div style=\"position:relative;width:100%;height:0;padding-bottom:60%;\"><iframe src=\"data:text/html;charset=utf-8;base64,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\" style=\"position:absolute;width:100%;height:100%;left:0;top:0;border:none !important;\" allowfullscreen webkitallowfullscreen mozallowfullscreen></iframe></div></div>"
      ],
      "text/plain": [
       "<folium.folium.Map at 0x11d4744a8>"
      ]
     },
     "execution_count": 28,
     "metadata": {},
     "output_type": "execute_result"
    }
   ],
   "source": [
    "# Code here \n",
    "from folium import IFrame\n",
    "\n",
    "for row in df.index:\n",
    "   \n",
    "    lat_long = df['coordinates'][row]\n",
    "    lat = lat_long['latitude']\n",
    "    long = lat_long['longitude']\n",
    "\n",
    "    name = 'Business Name: ' + str(df['name'][row])\n",
    "    rating = 'Rating: ' + str(df['rating'][row])\n",
    "    price = 'Price: ' + str(df['price'][row])\n",
    "\n",
    "    img = df['image_url'][row]\n",
    "    txt = folium.Html('<head><style> body {background-image: url('+ img+ ');\\\n",
    "                        background-color: rgba(255,255,255,0.6);background-blend-mode: lighten;\\\n",
    "                        background-position: center; background-repeat: no-repeat; background-size: cover;}</style></head>' +\n",
    "                      '<H2><center><font color=\"black\">' + str(df['name'][row]) + '</H2></center>' +\\\n",
    "                      '<B><center>Rating: </B>' + str(df['rating'][row]) + '/ 5</br></center>' +\\\n",
    "                      '<B><center>Price: </B>' + str(df['price'][row]) + '</br></center>' +\\\n",
    "                      '<center><a href='+ str(df['url'][row])+ ' target=\"_blank\">Read Reviews</b></a></br></br></center>' + \\\n",
    "                      '<small>Searching for '+ term + ' in ' + location, script=True)\n",
    "\n",
    "    iframe = folium.IFrame(txt, width=400, height=150)\n",
    "    popup = folium.Popup(iframe, max_width=3000)\n",
    "    Text = folium.Marker(location=[lat,long], popup=popup,icon=folium.Icon(icon_color='green'))\n",
    "    yelp_map.add_child(Text)\n",
    "\n",
    "yelp_map\n"
   ]
  },
  {
   "cell_type": "markdown",
   "metadata": {},
   "source": [
    "Wow . An Interactive Geographical information System backed by live data through API calling. \n",
    "\n",
    "<img src=\"star.jpg\" width=300>\n",
    "\n",
    "### More APIs to Checkout\n",
    "\n",
    "* Google Maps\n",
    "* Twitter\n",
    "* AWS\n",
    "* IBM's Watson\n",
    "* Yelp"
   ]
  },
  {
   "cell_type": "markdown",
   "metadata": {},
   "source": [
    "## Summary \n",
    "\n",
    "In this lab, we learned how to use the Yelp API with authentication, making calls, understanding the responses and creating interactive geographical visualizations in Folium. We encourage you to re-visit this lab again once you have studied some important machine learning algorithms to make predictions , find similarities, group/cluster businesses or classify them based on user criteria. "
   ]
  }
 ],
 "metadata": {
  "kernelspec": {
   "display_name": "Python 3",
   "language": "python",
   "name": "python3"
  },
  "language_info": {
   "codemirror_mode": {
    "name": "ipython",
    "version": 3
   },
   "file_extension": ".py",
   "mimetype": "text/x-python",
   "name": "python",
   "nbconvert_exporter": "python",
   "pygments_lexer": "ipython3",
   "version": "3.7.0"
  }
 },
 "nbformat": 4,
 "nbformat_minor": 2
}
